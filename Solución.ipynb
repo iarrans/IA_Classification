{
 "cells": [
  {
   "cell_type": "markdown",
   "metadata": {},
   "source": [
    "# Práctica de redes neuronales"
   ]
  },
  {
   "cell_type": "markdown",
   "metadata": {},
   "source": [
    "### Inteligencia Artificial\n",
    "### Grado en Ingeniería Informática - Ingeniería del Software\n",
    "### Universidad de Sevilla"
   ]
  },
  {
   "cell_type": "markdown",
   "metadata": {},
   "source": [
    "[Keras](https://keras.io/) es una biblioteca de Python que proporciona una interfaz amigable, modular y extensible para experimentar con redes neuronales. Actualmente Keras se desarrolla como parte de [TensorFlow](https://www.tensorflow.org/), la plataforma para aprendizaje automático de Google. Esto significa que para poder usar Keras se debe instalar el paquete `tensorflow` de Python. En esta práctica también se hará uso de los paquetes `numpy`, `pandas` y `sklearn`, que se deberán tener instalados."
   ]
  },
  {
   "cell_type": "markdown",
   "metadata": {},
   "source": [
    "Trabajar con redes neuronales implica el manejo de números [pseudoaleatorios](https://es.wikipedia.org/wiki/N%C3%BAmero_pseudoaleatorio). Para que este documento sea reproducible es necesario, por tanto, establecer una semilla inicial para el generador de esos números."
   ]
  },
  {
   "cell_type": "code",
   "execution_count": 1,
   "metadata": {},
   "outputs": [],
   "source": [
    "from tensorflow import random as tensorflow_random\n",
    "\n",
    "tensorflow_random.set_seed(394867)"
   ]
  },
  {
   "cell_type": "markdown",
   "metadata": {},
   "source": [
    "Importamos en primer lugar los paquetes que nos permitirán preprocesar los datos y dividirlos en subconjuntos de entrenamiento y prueba. También establecemos una semilla inicial para que estas operaciones sean reproducibles y fijamos el tamaño máximo que debe tener un array para que se muestre completo."
   ]
  },
  {
   "cell_type": "code",
   "execution_count": 2,
   "metadata": {},
   "outputs": [],
   "source": [
    "import numpy\n",
    "import pandas\n",
    "from sklearn import model_selection\n",
    "\n",
    "numpy.random.seed(43958734)\n",
    "numpy.set_printoptions(threshold=10)"
   ]
  },
  {
   "cell_type": "markdown",
   "metadata": {},
   "source": [
    "Finalmente importamos el paquete `keras`."
   ]
  },
  {
   "cell_type": "code",
   "execution_count": 3,
   "metadata": {},
   "outputs": [],
   "source": [
    "from tensorflow import keras"
   ]
  },
  {
   "cell_type": "markdown",
   "metadata": {},
   "source": [
    "## Redes neuronales para tareas de regresión"
   ]
  },
  {
   "cell_type": "markdown",
   "metadata": {},
   "source": [
    "El conjunto de datos [Gas Turbine CO and NOx Emission](http://archive.ics.uci.edu/ml/datasets/Gas+Turbine+CO+and+NOx+Emission+Data+Set) del repositorio [UCI](http://archive.ics.uci.edu/ml/index.html) contiene las siguientes medidas, agregadas por hora y tomadas desde el 1 de enero de 2011 hasta el 31 de diciembre de 2015, de una turbina de gas localizada en la región noroccidental de Turquía:\n",
    "\n",
    "* AT: temperatura ambiental, en grados centígrados.\n",
    "* AP: presión ambiental, en milibares.\n",
    "* AH: humedad ambiental, en porcentaje.\n",
    "* AFDP: diferencia de presión en el filtro de aire, en milibares.\n",
    "* GTEP: presión de escape de la turbina de gas, en milibares.\n",
    "* TIT: temperatura de entrada de la turbina, en grados centígrados.\n",
    "* TAT: temperatura de salida de la turbina, en grados centígrados.\n",
    "* CDP: presión de descarga del compresor, en milibares.\n",
    "* TEY: rendimiento energético de la turbina, en megavatios por hora.\n",
    "* CO: emisiones de monóxido de carbono, en miligramos por metro cúbico.\n",
    "* NOX: emisiones de óxidos de nitrógeno, en miligramos por metro cúbico.\n",
    "\n",
    "Los datos se encuentran en el fichero `gas_turbine.csv`."
   ]
  },
  {
   "cell_type": "code",
   "execution_count": null,
   "metadata": {
    "tags": []
   },
   "outputs": [],
   "source": [
    "gas_turbine = pandas.read_csv(\"gas_turbine.csv\")\n",
    "gas_turbine.head()"
   ]
  },
  {
   "cell_type": "markdown",
   "metadata": {},
   "source": [
    "Se plantea el problema de predecir el rendimiento energético de la turbina a partir de las medidas ambientales (AT, AP y AH) y de las medidas de los sensores de la turbina (AFDP, GTEP, TIT, TAT, CDP). Obsérvese que se trata de un problema de regresión, puesto que la variable objetivo es una variable continua."
   ]
  },
  {
   "cell_type": "markdown",
   "metadata": {},
   "source": [
    "En primer lugar, seleccionamos por un lado las variables predictoras y por otro lado la variable respuesta. En ambos casos transformamos los resultados a un array de NumPy, ya que ese tipo de dato es compatible con Keras mientras que los marcos de datos de Pandas no lo son."
   ]
  },
  {
   "cell_type": "code",
   "execution_count": null,
   "metadata": {},
   "outputs": [],
   "source": [
    "atributos = gas_turbine.loc[:, 'AT':'CDP']\n",
    "atributos = atributos.to_numpy()\n",
    "print(atributos)"
   ]
  },
  {
   "cell_type": "code",
   "execution_count": null,
   "metadata": {},
   "outputs": [],
   "source": [
    "objetivo = gas_turbine['TEY']\n",
    "objetivo = objetivo.to_numpy()\n",
    "print(objetivo)"
   ]
  },
  {
   "cell_type": "markdown",
   "metadata": {},
   "source": [
    "A continuación construimos los subconjuntos de entrenamiento y prueba para la construcción y evaluación de redes neuronales mediante aprendizaje supervisado."
   ]
  },
  {
   "cell_type": "code",
   "execution_count": null,
   "metadata": {},
   "outputs": [],
   "source": [
    "(atributos_entrenamiento, atributos_prueba,\n",
    " objetivo_entrenamiento, objetivo_prueba) = model_selection.train_test_split(\n",
    "    atributos, objetivo, test_size=.33)"
   ]
  },
  {
   "cell_type": "markdown",
   "metadata": {},
   "source": [
    "Estamos ya en condiciones de construir una red neuronal que nos permita abordar el problema."
   ]
  },
  {
   "cell_type": "markdown",
   "metadata": {},
   "source": [
    "Keras admite dos aproximaciones a la hora de construir una red neuronal: el modelo funcional, más flexible, y el modelo secuencial, más simple y el cual será el que usaremos en esta práctica."
   ]
  },
  {
   "cell_type": "markdown",
   "metadata": {},
   "source": [
    "En el modelo secuencial se construye una red neuronal capa a capa, comenzando por la capa de entrada y continuando con el resto de capas hasta la última, que será la capa de salida.\n",
    "\n",
    "La capa de entrada se construye como instancia de la clase `Input`, indicando la forma de la entrada, que puede ser un array con cualquier número de dimensiones. En nuestro caso la entrada será un array unidimensional con los valores de los atributos, pero podría ser por ejemplo una imagen bidimensional, etcétera.\n",
    "\n",
    "Para construir una red neuronal con alimentación hacia adelante, en el que las capas están totalmente conectadas, hay que añadir instancias de la clase `layers.Dense`, indicando la cantidad de neuronas y la función de activación (por defecto, la identidad)."
   ]
  },
  {
   "cell_type": "markdown",
   "metadata": {},
   "source": [
    "Por ejemplo, podemos construir una red neuronal con ocho neuronas de entrada, una por cada atributo, y una neurona de salida, que proporcione el rendimiento energético predicho, de la siguiente manera:"
   ]
  },
  {
   "cell_type": "code",
   "execution_count": null,
   "metadata": {},
   "outputs": [],
   "source": [
    "red_turbina = keras.Sequential()\n",
    "red_turbina.add(keras.Input(shape=(8,)))\n",
    "red_turbina.add(keras.layers.Dense(1))"
   ]
  },
  {
   "cell_type": "markdown",
   "metadata": {},
   "source": [
    "El método `summary` nos muestra la estructura de la red, indicando para cada capa la forma de su salida y cuántos parámetros posee. La capa de entrada no se muestra, ya que no posee parámetros. La primera dimensión en la forma de la salida de cada capa indica el tamaño de los lotes (de los que hablaremos posteriormente) y si su valor es `None` quiere decir que se determinará posteriormente."
   ]
  },
  {
   "cell_type": "code",
   "execution_count": null,
   "metadata": {},
   "outputs": [],
   "source": [
    "red_turbina.summary()"
   ]
  },
  {
   "cell_type": "markdown",
   "metadata": {},
   "source": [
    "Se observa cómo la red neuronal posee una única capa (aparte de la de entrada) que proporciona como salida un array bidimensional None x 1 (es decir, para cada ejemplo proporciona un valor) y 9 parámetros (el peso de la conexión de cada entrada con la neurona de la capa más el sesgo de la neurona) entrenables (la red los aprenderá mediante el algoritmo de entrenamiento)."
   ]
  },
  {
   "cell_type": "markdown",
   "metadata": {},
   "source": [
    "Los pesos y sesgos de la red se guardan en el atributo `weights` (son los arrays asociados al argumento numpy en la estructura de datos guardada en ese atributo)."
   ]
  },
  {
   "cell_type": "code",
   "execution_count": null,
   "metadata": {},
   "outputs": [],
   "source": [
    "red_turbina.weights"
   ]
  },
  {
   "cell_type": "markdown",
   "metadata": {},
   "source": [
    "Si le pedimos a la red que prediga el rendimiento energético de los cinco primeros ejemplos del conjunto de datos, se obtendrán valores muy distintos de los correctos mostrados anteriormente, ya que todavía no se ha entrenado la red."
   ]
  },
  {
   "cell_type": "code",
   "execution_count": null,
   "metadata": {},
   "outputs": [],
   "source": [
    "red_turbina.predict(gas_turbine.iloc[0:5, 0:8].to_numpy())"
   ]
  },
  {
   "cell_type": "markdown",
   "metadata": {},
   "source": [
    "Para entrenar una red neuronal hay que compilarla primero, estableciendo el algoritmo de aprendizaje (*optimizer*) y la función de pérdida (*loss*) a minimizar. Lo más cercano a lo explicado en clase es usar el error cuadrático medio (Keras no tiene implementada la suma de los errores cuadráticos, pero la minimización de ambas funciones es equivalente) y el algoritmo del descenso estocástico por el gradiente (*stochastic gradient descent*, SGD).\n",
    "\n",
    "El descenso estocástico por el gradiente es el algoritmo de retropropagación, pero en lugar de actualizar los pesos tras procesar todos los ejemplos de entrenamiento lo hace tras procesar un subconjunto de ellos cada vez. Cada uno de estos subconjuntos se llama un lote (*batch*). Los lotes se construyen repartiendo aleatoriamente los ejemplos de entrenamiento y cuando se han considerado todos los lotes (y, en consecuencia, todos los ejemplos) se dice que ha transcurrido una época (*epoch*)."
   ]
  },
  {
   "cell_type": "code",
   "execution_count": null,
   "metadata": {},
   "outputs": [],
   "source": [
    "red_turbina.compile(optimizer='SGD', loss='mean_squared_error')"
   ]
  },
  {
   "cell_type": "markdown",
   "metadata": {},
   "source": [
    "Por defecto se usa un factor de aprendizaje igual a 0.01. Solo falta, entonces, proporcionar los ejemplos de entrenamiento junto con la salida esperada para cada uno de ellos, el tamaño de los lotes y el número de épocas a entrenar."
   ]
  },
  {
   "cell_type": "code",
   "execution_count": null,
   "metadata": {},
   "outputs": [],
   "source": [
    "red_turbina.fit(atributos_entrenamiento, objetivo_entrenamiento,\n",
    "                batch_size=256, epochs=10)"
   ]
  },
  {
   "cell_type": "markdown",
   "metadata": {},
   "source": [
    "El entrenamiento ha fallado, ya que se han producido desbordamientos numéricos al calcular la función de pérdida (nan quiere decir *not a number*). Los motivos de que se produzca esta circunstancia pueden ser múltiples y, a veces, difíciles de determinar. En este caso el problema se encuentra en que proporcionamos los valores en bruto de los atributos, cuando lo recomendable es que los valores que reciban como entrada las neuronas sean cercanos a cero.\n",
    "\n",
    "Es necesario, pues, introducir tras la capa de entrada una capa de normalización como por ejemplo la disponible en Keras para tipificar las variables (a cada variable se le resta su media y se divide por su desviación típica). Los parámetros de esta capa de normalización deben ajustarse a partir únicamente de los datos de entrenamiento, lo que se hace mediante el método `adapt`."
   ]
  },
  {
   "cell_type": "code",
   "execution_count": 4,
   "metadata": {},
   "outputs": [
    {
     "ename": "NameError",
     "evalue": "name 'keras' is not defined",
     "output_type": "error",
     "traceback": [
      "\u001b[1;31m---------------------------------------------------------------------------\u001b[0m",
      "\u001b[1;31mNameError\u001b[0m                                 Traceback (most recent call last)",
      "\u001b[1;32m<ipython-input-4-f4b12fd1976d>\u001b[0m in \u001b[0;36m<module>\u001b[1;34m()\u001b[0m\n\u001b[1;32m----> 1\u001b[1;33m \u001b[0mnormalizador\u001b[0m \u001b[1;33m=\u001b[0m \u001b[0mkeras\u001b[0m\u001b[1;33m.\u001b[0m\u001b[0mlayers\u001b[0m\u001b[1;33m.\u001b[0m\u001b[0mexperimental\u001b[0m\u001b[1;33m.\u001b[0m\u001b[0mpreprocessing\u001b[0m\u001b[1;33m.\u001b[0m\u001b[0mNormalization\u001b[0m\u001b[1;33m(\u001b[0m\u001b[1;33m)\u001b[0m\u001b[1;33m\u001b[0m\u001b[0m\n\u001b[0m\u001b[0;32m      2\u001b[0m \u001b[0mnormalizador\u001b[0m\u001b[1;33m.\u001b[0m\u001b[0madapt\u001b[0m\u001b[1;33m(\u001b[0m\u001b[0matributos_entrenamiento\u001b[0m\u001b[1;33m)\u001b[0m\u001b[1;33m\u001b[0m\u001b[0m\n",
      "\u001b[1;31mNameError\u001b[0m: name 'keras' is not defined"
     ]
    }
   ],
   "source": [
    "normalizador = keras.layers.experimental.preprocessing.Normalization()\n",
    "normalizador.adapt(atributos_entrenamiento)"
   ]
  },
  {
   "cell_type": "markdown",
   "metadata": {},
   "source": [
    "Podemos comprobar como todos los atributos de entrenamiento tienen media y varianza aproximadamente 0 y 1, respectivamente, al ser normalizados."
   ]
  },
  {
   "cell_type": "code",
   "execution_count": 5,
   "metadata": {},
   "outputs": [
    {
     "ename": "NameError",
     "evalue": "name 'normalizador' is not defined",
     "output_type": "error",
     "traceback": [
      "\u001b[1;31m---------------------------------------------------------------------------\u001b[0m",
      "\u001b[1;31mNameError\u001b[0m                                 Traceback (most recent call last)",
      "\u001b[1;32m<ipython-input-5-198eb28c47ff>\u001b[0m in \u001b[0;36m<module>\u001b[1;34m()\u001b[0m\n\u001b[1;32m----> 1\u001b[1;33m \u001b[0mprint\u001b[0m\u001b[1;33m(\u001b[0m\u001b[0mnumpy\u001b[0m\u001b[1;33m.\u001b[0m\u001b[0mmean\u001b[0m\u001b[1;33m(\u001b[0m\u001b[0mnormalizador\u001b[0m\u001b[1;33m(\u001b[0m\u001b[0matributos_entrenamiento\u001b[0m\u001b[1;33m)\u001b[0m\u001b[1;33m,\u001b[0m \u001b[0maxis\u001b[0m\u001b[1;33m=\u001b[0m\u001b[1;36m0\u001b[0m\u001b[1;33m)\u001b[0m\u001b[1;33m)\u001b[0m\u001b[1;33m\u001b[0m\u001b[0m\n\u001b[0m\u001b[0;32m      2\u001b[0m \u001b[0mprint\u001b[0m\u001b[1;33m(\u001b[0m\u001b[0mnumpy\u001b[0m\u001b[1;33m.\u001b[0m\u001b[0mvar\u001b[0m\u001b[1;33m(\u001b[0m\u001b[0mnormalizador\u001b[0m\u001b[1;33m(\u001b[0m\u001b[0matributos_entrenamiento\u001b[0m\u001b[1;33m)\u001b[0m\u001b[1;33m,\u001b[0m \u001b[0maxis\u001b[0m\u001b[1;33m=\u001b[0m\u001b[1;36m0\u001b[0m\u001b[1;33m)\u001b[0m\u001b[1;33m)\u001b[0m\u001b[1;33m\u001b[0m\u001b[0m\n",
      "\u001b[1;31mNameError\u001b[0m: name 'normalizador' is not defined"
     ]
    }
   ],
   "source": [
    "print(numpy.mean(normalizador(atributos_entrenamiento), axis=0))\n",
    "print(numpy.var(normalizador(atributos_entrenamiento), axis=0))"
   ]
  },
  {
   "cell_type": "markdown",
   "metadata": {},
   "source": [
    "Al introducir en la red esa capa de normalización justo tras la capa de entrada, todos los datos que se proporcionen como entrada a la red se tipificarán usando las medias y desviaciones típicas calculadas."
   ]
  },
  {
   "cell_type": "code",
   "execution_count": 16,
   "metadata": {},
   "outputs": [],
   "source": [
    "red_turbina = keras.Sequential()\n",
    "red_turbina.add(keras.Input(shape=(8,)))\n",
    "red_turbina.add(normalizador)\n",
    "red_turbina.add(keras.layers.Dense(1))"
   ]
  },
  {
   "cell_type": "markdown",
   "metadata": {},
   "source": [
    "Se puede comprobar que los parámetros de esa capa de normalización no son entrenables, es decir, no se modificarán al aplicar a la red el algoritmo de descenso estocástico por el gradiente (la capa de normalización tiene 17 parámetros en total porque guarda la media y la desviación típica de cada uno de los ocho atributos y, además, la cantidad total de ejemplos a partir de los cuales se han calculado)."
   ]
  },
  {
   "cell_type": "code",
   "execution_count": 17,
   "metadata": {},
   "outputs": [
    {
     "name": "stdout",
     "output_type": "stream",
     "text": [
      "Model: \"sequential_1\"\n",
      "_________________________________________________________________\n",
      "Layer (type)                 Output Shape              Param #   \n",
      "=================================================================\n",
      "normalization (Normalization (None, 8)                 17        \n",
      "_________________________________________________________________\n",
      "dense_1 (Dense)              (None, 1)                 9         \n",
      "=================================================================\n",
      "Total params: 26\n",
      "Trainable params: 9\n",
      "Non-trainable params: 17\n",
      "_________________________________________________________________\n"
     ]
    }
   ],
   "source": [
    "red_turbina.summary()"
   ]
  },
  {
   "cell_type": "markdown",
   "metadata": {},
   "source": [
    "Como se ha vuelto a construir la red desde cero, también hay que volverla a compilar."
   ]
  },
  {
   "cell_type": "code",
   "execution_count": 18,
   "metadata": {},
   "outputs": [],
   "source": [
    "red_turbina.compile(optimizer='SGD', loss='mean_squared_error')"
   ]
  },
  {
   "cell_type": "markdown",
   "metadata": {},
   "source": [
    "Ahora la red ya entrena sin problema."
   ]
  },
  {
   "cell_type": "code",
   "execution_count": 19,
   "metadata": {},
   "outputs": [
    {
     "name": "stdout",
     "output_type": "stream",
     "text": [
      "Epoch 1/10\n",
      "97/97 [==============================] - 0s 1ms/step - loss: 8988.8457\n",
      "Epoch 2/10\n",
      "97/97 [==============================] - 0s 1ms/step - loss: 179.7722\n",
      "Epoch 3/10\n",
      "97/97 [==============================] - 0s 994us/step - loss: 5.1726\n",
      "Epoch 4/10\n",
      "97/97 [==============================] - 0s 862us/step - loss: 1.5482\n",
      "Epoch 5/10\n",
      "97/97 [==============================] - 0s 964us/step - loss: 1.4378\n",
      "Epoch 6/10\n",
      "97/97 [==============================] - 0s 911us/step - loss: 1.4222\n",
      "Epoch 7/10\n",
      "97/97 [==============================] - 0s 1ms/step - loss: 1.3627\n",
      "Epoch 8/10\n",
      "97/97 [==============================] - 0s 937us/step - loss: 1.3724\n",
      "Epoch 9/10\n",
      "97/97 [==============================] - 0s 932us/step - loss: 1.3722\n",
      "Epoch 10/10\n",
      "97/97 [==============================] - 0s 951us/step - loss: 1.3224\n"
     ]
    },
    {
     "data": {
      "text/plain": [
       "<tensorflow.python.keras.callbacks.History at 0x7fdfd80424a8>"
      ]
     },
     "execution_count": 19,
     "metadata": {},
     "output_type": "execute_result"
    }
   ],
   "source": [
    "red_turbina.fit(atributos_entrenamiento, objetivo_entrenamiento,\n",
    "               batch_size=256, epochs=10)"
   ]
  },
  {
   "cell_type": "markdown",
   "metadata": {},
   "source": [
    "Para comprobar el comportamiento de la red sobre los datos de prueba basta usar el método `evaluate`."
   ]
  },
  {
   "cell_type": "code",
   "execution_count": 20,
   "metadata": {},
   "outputs": [
    {
     "name": "stdout",
     "output_type": "stream",
     "text": [
      "379/379 [==============================] - 1s 1ms/step - loss: 1.2981\n"
     ]
    },
    {
     "data": {
      "text/plain": [
       "1.2981092929840088"
      ]
     },
     "execution_count": 20,
     "metadata": {},
     "output_type": "execute_result"
    }
   ],
   "source": [
    "red_turbina.evaluate(atributos_prueba, objetivo_prueba)"
   ]
  },
  {
   "cell_type": "markdown",
   "metadata": {},
   "source": [
    "Una forma de tratar de mejorar el rendimiento de la red neuronal es aumentar el número de épocas de entrenamiento. Esto, aparte del obvio coste en tiempo que supone, no garantiza que el algoritmo de entrenamiento no se quede atascado en un mínimo local de la función de pérdida, sin llegar a aproximarse nunca al mínimo global.\n",
    "\n",
    "Otra vía para conseguir una red neuronal con mejor rendimiento es modificar la estructura de la misma. Por ejemplo, en el caso que nos ocupa, podemos probar a incluir una capa oculta de la que se ha elegido, de forma arbitraria, que tenga 10 neuronas."
   ]
  },
  {
   "cell_type": "code",
   "execution_count": 21,
   "metadata": {},
   "outputs": [],
   "source": [
    "red_turbina = keras.Sequential()\n",
    "red_turbina.add(keras.Input(shape=(8,)))\n",
    "red_turbina.add(normalizador)\n",
    "red_turbina.add(keras.layers.Dense(10))\n",
    "red_turbina.add(keras.layers.Dense(1))"
   ]
  },
  {
   "cell_type": "markdown",
   "metadata": {},
   "source": [
    "Esta red tiene 101 parámetros entrenables, que provienen de los 8x10 pesos más 10 sesgos de las neuronas de la capa oculta más los 10 pesos y el sesgo de la neurona de la capa de salida. También tiene 17 parámetros no entrenables, que provienen de la capa de normalización."
   ]
  },
  {
   "cell_type": "code",
   "execution_count": 22,
   "metadata": {},
   "outputs": [
    {
     "name": "stdout",
     "output_type": "stream",
     "text": [
      "Model: \"sequential_2\"\n",
      "_________________________________________________________________\n",
      "Layer (type)                 Output Shape              Param #   \n",
      "=================================================================\n",
      "normalization (Normalization (None, 8)                 17        \n",
      "_________________________________________________________________\n",
      "dense_2 (Dense)              (None, 10)                90        \n",
      "_________________________________________________________________\n",
      "dense_3 (Dense)              (None, 1)                 11        \n",
      "=================================================================\n",
      "Total params: 118\n",
      "Trainable params: 101\n",
      "Non-trainable params: 17\n",
      "_________________________________________________________________\n"
     ]
    }
   ],
   "source": [
    "red_turbina.summary()"
   ]
  },
  {
   "cell_type": "markdown",
   "metadata": {},
   "source": [
    "Al compilar la red se puede indicar también que, aparte de la función de pérdida, se calculan otras métricas adecuadas. Por ejemplo, el error absoluto medio (es decir, la media de las diferencias en valor absoluto entre los valores predichos y los valores correctos) es una métrica adecuada para una tarea de regresión."
   ]
  },
  {
   "cell_type": "code",
   "execution_count": 23,
   "metadata": {},
   "outputs": [],
   "source": [
    "red_turbina.compile(optimizer='SGD', loss='mean_squared_error',\n",
    "                    metrics=['mean_absolute_error'])"
   ]
  },
  {
   "cell_type": "code",
   "execution_count": 24,
   "metadata": {},
   "outputs": [
    {
     "name": "stdout",
     "output_type": "stream",
     "text": [
      "Epoch 1/10\n",
      "97/97 [==============================] - 0s 1ms/step - loss: nan - mean_absolute_error: nan        \n",
      "Epoch 2/10\n",
      "97/97 [==============================] - 0s 1ms/step - loss: nan - mean_absolute_error: nan\n",
      "Epoch 3/10\n",
      "97/97 [==============================] - 0s 1ms/step - loss: nan - mean_absolute_error: nan\n",
      "Epoch 4/10\n",
      "97/97 [==============================] - 0s 1ms/step - loss: nan - mean_absolute_error: nan\n",
      "Epoch 5/10\n",
      "97/97 [==============================] - 0s 2ms/step - loss: nan - mean_absolute_error: nan\n",
      "Epoch 6/10\n",
      "97/97 [==============================] - 0s 1ms/step - loss: nan - mean_absolute_error: nan\n",
      "Epoch 7/10\n",
      "97/97 [==============================] - 0s 986us/step - loss: nan - mean_absolute_error: nan\n",
      "Epoch 8/10\n",
      "97/97 [==============================] - 0s 1ms/step - loss: nan - mean_absolute_error: nan\n",
      "Epoch 9/10\n",
      "97/97 [==============================] - 0s 972us/step - loss: nan - mean_absolute_error: nan\n",
      "Epoch 10/10\n",
      "97/97 [==============================] - 0s 1ms/step - loss: nan - mean_absolute_error: nan\n"
     ]
    },
    {
     "data": {
      "text/plain": [
       "<tensorflow.python.keras.callbacks.History at 0x7fdfd071a748>"
      ]
     },
     "execution_count": 24,
     "metadata": {},
     "output_type": "execute_result"
    }
   ],
   "source": [
    "red_turbina.fit(atributos_entrenamiento, objetivo_entrenamiento,\n",
    "               batch_size=256, epochs=10)"
   ]
  },
  {
   "cell_type": "markdown",
   "metadata": {},
   "source": [
    "De nuevo se han producido desbordamientos en el cálculo de la función de pérdida. En este caso es debido a que las neuronas de la capa oculta tienen como función de activación a la función identidad (la función de activación por defecto). Por lo tanto, aunque ellas sí reciben las entradas normalizadas, los valores que devuelven, y que son las que recibe la neurona de la capa de salida, pueden alejarse bastante del valor cero. Si establecemos como función de activación de las neuronas de la capa oculta a la función sigmoide, esta normalizará al intervalo (0, 1) los valores que devuelven esas neuronas y la red se podrá entrenar sin problema."
   ]
  },
  {
   "cell_type": "code",
   "execution_count": 25,
   "metadata": {},
   "outputs": [],
   "source": [
    "red_turbina = keras.Sequential()\n",
    "red_turbina.add(keras.Input(shape=(8,)))\n",
    "red_turbina.add(normalizador)\n",
    "red_turbina.add(keras.layers.Dense(10, activation='sigmoid'))\n",
    "red_turbina.add(keras.layers.Dense(1))"
   ]
  },
  {
   "cell_type": "markdown",
   "metadata": {},
   "source": [
    "Al compilar la red se pueden cambiar los parámetros de los distintos argumentos proporcionando, en lugar del nombre, una instancia de la clase que lo implementa. Por ejemplo, para establecer el factor de aprendizaje, en lugar de proporcionar el nombre `'SGD'` para indicar descenso estocástico por el gradiente como optimizador hay que proporcionar una instancia de la clase `SGD` que lo implementa."
   ]
  },
  {
   "cell_type": "code",
   "execution_count": 26,
   "metadata": {},
   "outputs": [],
   "source": [
    "red_turbina.compile(optimizer=keras.optimizers.SGD(learning_rate=0.02), loss='mean_squared_error',\n",
    "                    metrics=['mean_absolute_error'])"
   ]
  },
  {
   "cell_type": "code",
   "execution_count": 27,
   "metadata": {},
   "outputs": [
    {
     "name": "stdout",
     "output_type": "stream",
     "text": [
      "Epoch 1/10\n",
      "97/97 [==============================] - 0s 1ms/step - loss: 1986.0117 - mean_absolute_error: 22.1891\n",
      "Epoch 2/10\n",
      "97/97 [==============================] - 0s 1ms/step - loss: 4.9152 - mean_absolute_error: 1.4067\n",
      "Epoch 3/10\n",
      "97/97 [==============================] - 0s 1ms/step - loss: 2.2173 - mean_absolute_error: 1.0041\n",
      "Epoch 4/10\n",
      "97/97 [==============================] - 0s 1ms/step - loss: 1.5979 - mean_absolute_error: 0.8889\n",
      "Epoch 5/10\n",
      "97/97 [==============================] - 0s 1ms/step - loss: 1.3663 - mean_absolute_error: 0.8433\n",
      "Epoch 6/10\n",
      "97/97 [==============================] - 0s 1ms/step - loss: 1.1798 - mean_absolute_error: 0.7952\n",
      "Epoch 7/10\n",
      "97/97 [==============================] - 0s 2ms/step - loss: 1.0375 - mean_absolute_error: 0.7627\n",
      "Epoch 8/10\n",
      "97/97 [==============================] - 0s 1ms/step - loss: 0.9815 - mean_absolute_error: 0.7439\n",
      "Epoch 9/10\n",
      "97/97 [==============================] - 0s 2ms/step - loss: 0.9552 - mean_absolute_error: 0.7395\n",
      "Epoch 10/10\n",
      "97/97 [==============================] - 0s 2ms/step - loss: 0.8989 - mean_absolute_error: 0.7207\n"
     ]
    },
    {
     "data": {
      "text/plain": [
       "<tensorflow.python.keras.callbacks.History at 0x7fdfd06733c8>"
      ]
     },
     "execution_count": 27,
     "metadata": {},
     "output_type": "execute_result"
    }
   ],
   "source": [
    "red_turbina.fit(atributos_entrenamiento, objetivo_entrenamiento,\n",
    "               batch_size=256, epochs=10)"
   ]
  },
  {
   "cell_type": "code",
   "execution_count": 28,
   "metadata": {},
   "outputs": [
    {
     "name": "stdout",
     "output_type": "stream",
     "text": [
      "379/379 [==============================] - 1s 1ms/step - loss: 0.8529 - mean_absolute_error: 0.7061\n"
     ]
    },
    {
     "data": {
      "text/plain": [
       "[0.852899432182312, 0.7061452269554138]"
      ]
     },
     "execution_count": 28,
     "metadata": {},
     "output_type": "execute_result"
    }
   ],
   "source": [
    "red_turbina.evaluate(atributos_prueba, objetivo_prueba)"
   ]
  },
  {
   "cell_type": "markdown",
   "metadata": {},
   "source": [
    "Se obtiene un error sobre el conjunto de prueba menor que el obtenido con la red sin capa oculta."
   ]
  },
  {
   "cell_type": "markdown",
   "metadata": {},
   "source": [
    "### **Ejercicio 1**"
   ]
  },
  {
   "cell_type": "markdown",
   "metadata": {},
   "source": [
    "Se plantea el problema de predecir **a la vez** el rendimiento energético de la turbina (TEY), las emisiones de monóxido de carbono (CO) y las emisiones de óxidos de nitrógeno (NOX) a partir de las medidas ambientales (AT, AP y AH) y de las medidas de los sensores de la turbina (AFDP, GTEP, TIT, TAT, CDP)."
   ]
  },
  {
   "cell_type": "markdown",
   "metadata": {},
   "source": [
    "Experimentar con diferentes arquitecturas de redes neuronales, que necesariamente deberán tener 3 neuronas en la capa de salida, y con diferentes configuraciones de entrenamiento para abordar el problema."
   ]
  },
  {
   "cell_type": "markdown",
   "metadata": {},
   "source": [
    "El objetivo último es construir una red neuronal con un error absoluto medio sobre el conjunto de prueba de alrededor de 1.5."
   ]
  },
  {
   "cell_type": "code",
   "execution_count": 29,
   "metadata": {},
   "outputs": [
    {
     "name": "stdout",
     "output_type": "stream",
     "text": [
      "[[134.67      0.32663  81.952  ]\n",
      " [134.67      0.44784  82.377  ]\n",
      " [135.1       0.45144  83.776  ]\n",
      " ...\n",
      " [107.81     11.414    96.147  ]\n",
      " [131.41      3.3134   64.738  ]\n",
      " [125.41     11.981   109.24   ]]\n"
     ]
    }
   ],
   "source": [
    "objetivos = gas_turbine.loc[:, 'TEY':'NOX']\n",
    "objetivos = objetivos.to_numpy()\n",
    "print(objetivos)"
   ]
  },
  {
   "cell_type": "code",
   "execution_count": 30,
   "metadata": {},
   "outputs": [],
   "source": [
    "(atributos_entrenamiento, atributos_prueba,\n",
    " objetivos_entrenamiento, objetivos_prueba) = model_selection.train_test_split(\n",
    "    atributos, objetivos, test_size=.33)"
   ]
  },
  {
   "cell_type": "code",
   "execution_count": 31,
   "metadata": {},
   "outputs": [],
   "source": [
    "red_turbina = keras.Sequential()\n",
    "red_turbina.add(keras.Input(shape=(8,)))\n",
    "red_turbina.add(normalizador)\n",
    "red_turbina.add(keras.layers.Dense(100, activation='sigmoid'))\n",
    "red_turbina.add(keras.layers.Dense(100, activation='sigmoid'))\n",
    "red_turbina.add(keras.layers.Dense(3))"
   ]
  },
  {
   "cell_type": "code",
   "execution_count": 32,
   "metadata": {},
   "outputs": [
    {
     "name": "stdout",
     "output_type": "stream",
     "text": [
      "Model: \"sequential_4\"\n",
      "_________________________________________________________________\n",
      "Layer (type)                 Output Shape              Param #   \n",
      "=================================================================\n",
      "normalization (Normalization (None, 8)                 17        \n",
      "_________________________________________________________________\n",
      "dense_6 (Dense)              (None, 100)               900       \n",
      "_________________________________________________________________\n",
      "dense_7 (Dense)              (None, 100)               10100     \n",
      "_________________________________________________________________\n",
      "dense_8 (Dense)              (None, 3)                 303       \n",
      "=================================================================\n",
      "Total params: 11,320\n",
      "Trainable params: 11,303\n",
      "Non-trainable params: 17\n",
      "_________________________________________________________________\n"
     ]
    }
   ],
   "source": [
    "red_turbina.summary()"
   ]
  },
  {
   "cell_type": "code",
   "execution_count": 33,
   "metadata": {},
   "outputs": [],
   "source": [
    "red_turbina.compile(optimizer=keras.optimizers.SGD(learning_rate=0.05), loss='mean_squared_error',\n",
    "                    metrics=['mean_absolute_error'])"
   ]
  },
  {
   "cell_type": "code",
   "execution_count": 34,
   "metadata": {},
   "outputs": [
    {
     "data": {
      "text/plain": [
       "<tensorflow.python.keras.callbacks.History at 0x7fdfd066ac18>"
      ]
     },
     "execution_count": 34,
     "metadata": {},
     "output_type": "execute_result"
    }
   ],
   "source": [
    "red_turbina.fit(atributos_entrenamiento, objetivos_entrenamiento,\n",
    "                batch_size=256, epochs=300, verbose=0)"
   ]
  },
  {
   "cell_type": "code",
   "execution_count": 35,
   "metadata": {},
   "outputs": [
    {
     "name": "stdout",
     "output_type": "stream",
     "text": [
      "379/379 [==============================] - 0s 843us/step - loss: 8.1771 - mean_absolute_error: 1.5575\n"
     ]
    },
    {
     "data": {
      "text/plain": [
       "[8.177083969116211, 1.5575082302093506]"
      ]
     },
     "execution_count": 35,
     "metadata": {},
     "output_type": "execute_result"
    }
   ],
   "source": [
    "red_turbina.evaluate(atributos_prueba, objetivos_prueba)"
   ]
  },
  {
   "cell_type": "markdown",
   "metadata": {
    "tags": []
   },
   "source": [
    "## Redes neuronales para tareas de clasificación"
   ]
  },
  {
   "cell_type": "markdown",
   "metadata": {},
   "source": [
    "*Iris* es un conjunto de datos multivariante que se ha estudiado exhaustivamente y se ha convertido en un conjunto de datos de referencia a la hora de analizar el comportamiento de los distintos algoritmos de aprendizaje automático.\n",
    "\n",
    "*Iris* recopila cuatro medidas (longitud y anchura de sépalo y pétalo) de 50 flores de cada una de las siguientes tres especies de lirios: *Iris setosa*, *Iris virginica* e *Iris versicolor*.\n",
    "\n",
    "Los datos se encuentran en el fichero `iris.csv`."
   ]
  },
  {
   "cell_type": "code",
   "execution_count": 36,
   "metadata": {
    "tags": []
   },
   "outputs": [
    {
     "data": {
      "text/html": [
       "<div>\n",
       "<style scoped>\n",
       "    .dataframe tbody tr th:only-of-type {\n",
       "        vertical-align: middle;\n",
       "    }\n",
       "\n",
       "    .dataframe tbody tr th {\n",
       "        vertical-align: top;\n",
       "    }\n",
       "\n",
       "    .dataframe thead th {\n",
       "        text-align: right;\n",
       "    }\n",
       "</style>\n",
       "<table border=\"1\" class=\"dataframe\">\n",
       "  <thead>\n",
       "    <tr style=\"text-align: right;\">\n",
       "      <th></th>\n",
       "      <th>Longitud sépalo</th>\n",
       "      <th>Anchura sépalo</th>\n",
       "      <th>Longitud pétalo</th>\n",
       "      <th>Anchura pétalo</th>\n",
       "      <th>Especie</th>\n",
       "    </tr>\n",
       "  </thead>\n",
       "  <tbody>\n",
       "    <tr>\n",
       "      <th>0</th>\n",
       "      <td>5.1</td>\n",
       "      <td>3.5</td>\n",
       "      <td>1.4</td>\n",
       "      <td>0.2</td>\n",
       "      <td>Iris-setosa</td>\n",
       "    </tr>\n",
       "    <tr>\n",
       "      <th>1</th>\n",
       "      <td>4.9</td>\n",
       "      <td>3.0</td>\n",
       "      <td>1.4</td>\n",
       "      <td>0.2</td>\n",
       "      <td>Iris-setosa</td>\n",
       "    </tr>\n",
       "    <tr>\n",
       "      <th>2</th>\n",
       "      <td>4.7</td>\n",
       "      <td>3.2</td>\n",
       "      <td>1.3</td>\n",
       "      <td>0.2</td>\n",
       "      <td>Iris-setosa</td>\n",
       "    </tr>\n",
       "    <tr>\n",
       "      <th>3</th>\n",
       "      <td>4.6</td>\n",
       "      <td>3.1</td>\n",
       "      <td>1.5</td>\n",
       "      <td>0.2</td>\n",
       "      <td>Iris-setosa</td>\n",
       "    </tr>\n",
       "    <tr>\n",
       "      <th>4</th>\n",
       "      <td>5.0</td>\n",
       "      <td>3.6</td>\n",
       "      <td>1.4</td>\n",
       "      <td>0.2</td>\n",
       "      <td>Iris-setosa</td>\n",
       "    </tr>\n",
       "  </tbody>\n",
       "</table>\n",
       "</div>"
      ],
      "text/plain": [
       "   Longitud sépalo  Anchura sépalo  Longitud pétalo  Anchura pétalo  \\\n",
       "0              5.1             3.5              1.4             0.2   \n",
       "1              4.9             3.0              1.4             0.2   \n",
       "2              4.7             3.2              1.3             0.2   \n",
       "3              4.6             3.1              1.5             0.2   \n",
       "4              5.0             3.6              1.4             0.2   \n",
       "\n",
       "       Especie  \n",
       "0  Iris-setosa  \n",
       "1  Iris-setosa  \n",
       "2  Iris-setosa  \n",
       "3  Iris-setosa  \n",
       "4  Iris-setosa  "
      ]
     },
     "execution_count": 36,
     "metadata": {},
     "output_type": "execute_result"
    }
   ],
   "source": [
    "iris = pandas.read_csv('iris.csv', header=None,\n",
    "                       names=['Longitud sépalo', 'Anchura sépalo',\n",
    "                              'Longitud pétalo', 'Anchura pétalo',\n",
    "                              'Especie'])\n",
    "iris.head()"
   ]
  },
  {
   "cell_type": "markdown",
   "metadata": {},
   "source": [
    "Se plantea el problema de predecir si una flor es o no de la especie *Iris setosa* a partir de las medidas de sus sépalos y pétalos. Obsérvese que se trata de un problema de clasificación, puesto que la variable objetivo es una variable categórica binaria."
   ]
  },
  {
   "cell_type": "markdown",
   "metadata": {},
   "source": [
    "En primer lugar, seleccionamos por un lado las variables predictoras y por otro lado la variable respuesta. En ambos casos transformamos los resultados a un array de NumPy. La variable respuesta la transformamos además a una variable numérica."
   ]
  },
  {
   "cell_type": "code",
   "execution_count": 37,
   "metadata": {},
   "outputs": [
    {
     "name": "stdout",
     "output_type": "stream",
     "text": [
      "[[5.1 3.5 1.4 0.2]\n",
      " [4.9 3.  1.4 0.2]\n",
      " [4.7 3.2 1.3 0.2]\n",
      " ...\n",
      " [6.5 3.  5.2 2. ]\n",
      " [6.2 3.4 5.4 2.3]\n",
      " [5.9 3.  5.1 1.8]]\n"
     ]
    }
   ],
   "source": [
    "atributos = iris.loc[:, 'Longitud sépalo':'Anchura pétalo']\n",
    "atributos = atributos.to_numpy()\n",
    "print(atributos)"
   ]
  },
  {
   "cell_type": "code",
   "execution_count": 38,
   "metadata": {},
   "outputs": [
    {
     "name": "stdout",
     "output_type": "stream",
     "text": [
      "[1. 1. 1. ... 0. 0. 0.]\n"
     ]
    }
   ],
   "source": [
    "objetivo = iris['Especie'] == 'Iris-setosa'\n",
    "objetivo = objetivo.to_numpy().astype(float)\n",
    "print(objetivo)"
   ]
  },
  {
   "cell_type": "markdown",
   "metadata": {},
   "source": [
    "A continuación construimos los subconjuntos de entrenamiento y prueba."
   ]
  },
  {
   "cell_type": "code",
   "execution_count": 40,
   "metadata": {},
   "outputs": [],
   "source": [
    "(atributos_entrenamiento, atributos_prueba,\n",
    " objetivo_entrenamiento, objetivo_prueba) = model_selection.train_test_split(\n",
    "    atributos, objetivo, test_size=.33)"
   ]
  },
  {
   "cell_type": "markdown",
   "metadata": {},
   "source": [
    "Estamos ya en condiciones de construir una red neuronal que nos permita abordar el problema. Al tratarse este de un problema de clasificación binaria es habitual considerar una única neurona de salida que devuelva un valor entre 0 y 1 representando la probabilidad de que el ejemplo de entrada pertenezca a la clase positiva."
   ]
  },
  {
   "cell_type": "code",
   "execution_count": 41,
   "metadata": {},
   "outputs": [],
   "source": [
    "normalizador = keras.layers.experimental.preprocessing.Normalization()\n",
    "normalizador.adapt(atributos_entrenamiento)"
   ]
  },
  {
   "cell_type": "code",
   "execution_count": 42,
   "metadata": {},
   "outputs": [],
   "source": [
    "red_lirios = keras.Sequential()\n",
    "red_lirios.add(keras.Input(shape=(4,)))\n",
    "red_lirios.add(normalizador)\n",
    "red_lirios.add(keras.layers.Dense(1, activation='sigmoid'))"
   ]
  },
  {
   "cell_type": "code",
   "execution_count": 43,
   "metadata": {},
   "outputs": [
    {
     "name": "stdout",
     "output_type": "stream",
     "text": [
      "Model: \"sequential_5\"\n",
      "_________________________________________________________________\n",
      "Layer (type)                 Output Shape              Param #   \n",
      "=================================================================\n",
      "normalization_1 (Normalizati (None, 4)                 9         \n",
      "_________________________________________________________________\n",
      "dense_9 (Dense)              (None, 1)                 5         \n",
      "=================================================================\n",
      "Total params: 14\n",
      "Trainable params: 5\n",
      "Non-trainable params: 9\n",
      "_________________________________________________________________\n"
     ]
    }
   ],
   "source": [
    "red_lirios.summary()"
   ]
  },
  {
   "cell_type": "markdown",
   "metadata": {},
   "source": [
    "La función de pérdida a minimizar adecuada en este caso es la entropía cruzada binaria:\n",
    "$$C(y, \\hat{y}) = -y \\log(\\hat{y}) - (1 - y)\\log(1 - \\hat{y})$$\n",
    "donde $y$ es la respuesta correcta e $\\hat{y}$ es la respuesta proporcionada por el modelo."
   ]
  },
  {
   "cell_type": "markdown",
   "metadata": {},
   "source": [
    "También le vamos a pedir a la red que calcule su exactitud, es decir, la fracción de ejemplos clasificados correctamente. Una flor se clasificará como de la especie *Iris setosa* si la probabilidad de que sea así devuelta por la red es mayor que 0.5."
   ]
  },
  {
   "cell_type": "code",
   "execution_count": 44,
   "metadata": {},
   "outputs": [],
   "source": [
    "red_lirios.compile(optimizer='SGD', loss='binary_crossentropy',\n",
    "                   metrics=['accuracy'])"
   ]
  },
  {
   "cell_type": "code",
   "execution_count": 45,
   "metadata": {},
   "outputs": [
    {
     "name": "stdout",
     "output_type": "stream",
     "text": [
      "Epoch 1/10\n",
      "10/10 [==============================] - 0s 1ms/step - loss: 0.7846 - accuracy: 0.4001\n",
      "Epoch 2/10\n",
      "10/10 [==============================] - 0s 2ms/step - loss: 0.7330 - accuracy: 0.5435\n",
      "Epoch 3/10\n",
      "10/10 [==============================] - 0s 2ms/step - loss: 0.6697 - accuracy: 0.5892\n",
      "Epoch 4/10\n",
      "10/10 [==============================] - 0s 2ms/step - loss: 0.5781 - accuracy: 0.6627\n",
      "Epoch 5/10\n",
      "10/10 [==============================] - 0s 2ms/step - loss: 0.5511 - accuracy: 0.7772\n",
      "Epoch 6/10\n",
      "10/10 [==============================] - 0s 2ms/step - loss: 0.5084 - accuracy: 0.8833\n",
      "Epoch 7/10\n",
      "10/10 [==============================] - 0s 1ms/step - loss: 0.4544 - accuracy: 0.9021\n",
      "Epoch 8/10\n",
      "10/10 [==============================] - 0s 1ms/step - loss: 0.4483 - accuracy: 0.9680\n",
      "Epoch 9/10\n",
      "10/10 [==============================] - 0s 1ms/step - loss: 0.4277 - accuracy: 0.9296\n",
      "Epoch 10/10\n",
      "10/10 [==============================] - 0s 1ms/step - loss: 0.3797 - accuracy: 0.9725\n"
     ]
    },
    {
     "data": {
      "text/plain": [
       "<tensorflow.python.keras.callbacks.History at 0x7fdfd04957b8>"
      ]
     },
     "execution_count": 45,
     "metadata": {},
     "output_type": "execute_result"
    }
   ],
   "source": [
    "red_lirios.fit(atributos_entrenamiento, objetivo_entrenamiento,\n",
    "               batch_size=10, epochs=10)"
   ]
  },
  {
   "cell_type": "code",
   "execution_count": 46,
   "metadata": {},
   "outputs": [
    {
     "name": "stdout",
     "output_type": "stream",
     "text": [
      "2/2 [==============================] - 0s 2ms/step - loss: 0.3627 - accuracy: 0.9800\n"
     ]
    },
    {
     "data": {
      "text/plain": [
       "[0.36273708939552307, 0.9800000190734863]"
      ]
     },
     "execution_count": 46,
     "metadata": {},
     "output_type": "execute_result"
    }
   ],
   "source": [
    "red_lirios.evaluate(atributos_prueba, objetivo_prueba)"
   ]
  },
  {
   "cell_type": "markdown",
   "metadata": {},
   "source": [
    "En este caso la red construida es capaz de identificar correctamente todas las flores del conjunto de prueba que son de la especie *Iris setosa*. Esto no es sorprendente, ya que es perfectamente conocido que las medidas de los sépalos y pétalos permiten separar esta especie de lirio de las otras dos especies. Separar estas dos últimas entre sí ya entraña un poco de mayor dificultad."
   ]
  },
  {
   "cell_type": "markdown",
   "metadata": {},
   "source": [
    "### **Ejercicio 2**"
   ]
  },
  {
   "cell_type": "markdown",
   "metadata": {},
   "source": [
    "Se plantea el problema de determinar la especie de lirio a la que pertenece una flor a partir de las medidas de sus sépalos y pétalos."
   ]
  },
  {
   "cell_type": "markdown",
   "metadata": {},
   "source": [
    "Experimentar con diferentes arquitecturas de redes neuronales y con diferentes configuraciones de entrenamiento para abordar el problema."
   ]
  },
  {
   "cell_type": "markdown",
   "metadata": {},
   "source": [
    "Puesto que se trata de un problema de clasificación multiclase, es conveniente que la capa de salida tenga tantas neuronas como clases y que la función de activación para estas neuronas sea la función softmax, que dada la tupla de entradas de las neuronas las normaliza a valores en el intervalo (0, 1) representando la probabilidad de pertenencia a a cada clase:\n",
    "$$\\mathit{softmax}(z_{1}, \\ldots, z_{n}) =\n",
    "\\left(\\frac{\\mathrm{e}^{z_{1}}}{\\sum_{i = 1}^{n} \\mathrm{e}^{z_{i}}}, \\ldots,\n",
    "\\frac{\\mathrm{e}^{z_{n}}}{\\sum_{i = 1}^{n} \\mathrm{e}^{z_{i}}}\\right)$$\n",
    "\n",
    "De esta forma, cada ejemplo se clasificará en la clase más probable."
   ]
  },
  {
   "cell_type": "markdown",
   "metadata": {},
   "source": [
    "La función de pérdida a minimizar adecuada en este caso es la entropía cruzada categórica (`'categorical_crossentropy'`)\n",
    "$$C(\\mathbf{y}, \\hat{\\mathbf{y}}) = - \\sum_{i = 1}^{n} \\mathbf{y}_{i}⁢ \\log\\hat{\\mathbf{y}}_{i}$$\n",
    "donde $\\mathbf{y}$ es la codificación *one-hot* de la clase correcta e $\\hat{\\mathbf{y}}$ es el vector de probabilidades de pertenencia a cada clase proporcionado por el modelo."
   ]
  },
  {
   "cell_type": "markdown",
   "metadata": {},
   "source": [
    "Para codificar la variable objetivo mediante *one-hot* es útil la función `get_dummies` de la biblioteca Pandas."
   ]
  },
  {
   "cell_type": "code",
   "execution_count": 47,
   "metadata": {},
   "outputs": [
    {
     "name": "stdout",
     "output_type": "stream",
     "text": [
      "     Iris-setosa  Iris-versicolor  Iris-virginica\n",
      "0              1                0               0\n",
      "1              1                0               0\n",
      "2              1                0               0\n",
      "3              1                0               0\n",
      "4              1                0               0\n",
      "..           ...              ...             ...\n",
      "145            0                0               1\n",
      "146            0                0               1\n",
      "147            0                0               1\n",
      "148            0                0               1\n",
      "149            0                0               1\n",
      "\n",
      "[150 rows x 3 columns]\n",
      "[[1 0 0]\n",
      " [1 0 0]\n",
      " [1 0 0]\n",
      " ...\n",
      " [0 0 1]\n",
      " [0 0 1]\n",
      " [0 0 1]]\n"
     ]
    }
   ],
   "source": [
    "objetivo = iris['Especie']\n",
    "objetivo = pandas.get_dummies(objetivo)\n",
    "print(objetivo)\n",
    "objetivo = objetivo.to_numpy()\n",
    "print(objetivo)"
   ]
  },
  {
   "cell_type": "markdown",
   "metadata": {},
   "source": [
    "El objetivo último es construir una red neuronal con una exactitud sobre el conjunto de prueba superior a 0.9."
   ]
  },
  {
   "cell_type": "code",
   "execution_count": 48,
   "metadata": {},
   "outputs": [],
   "source": [
    "(atributos_entrenamiento, atributos_prueba,\n",
    " objetivo_entrenamiento, objetivo_prueba) = model_selection.train_test_split(\n",
    "    atributos, objetivo, test_size=.33)"
   ]
  },
  {
   "cell_type": "code",
   "execution_count": 49,
   "metadata": {},
   "outputs": [],
   "source": [
    "normalizador = keras.layers.experimental.preprocessing.Normalization()\n",
    "normalizador.adapt(atributos_entrenamiento)"
   ]
  },
  {
   "cell_type": "code",
   "execution_count": 50,
   "metadata": {},
   "outputs": [],
   "source": [
    "red_lirios = keras.Sequential()\n",
    "red_lirios.add(keras.Input(shape=(4,)))\n",
    "red_lirios.add(normalizador)\n",
    "red_lirios.add(keras.layers.Dense(50, activation='tanh'))\n",
    "red_lirios.add(keras.layers.Dense(3, activation='softmax'))"
   ]
  },
  {
   "cell_type": "code",
   "execution_count": 51,
   "metadata": {},
   "outputs": [
    {
     "name": "stdout",
     "output_type": "stream",
     "text": [
      "Model: \"sequential_6\"\n",
      "_________________________________________________________________\n",
      "Layer (type)                 Output Shape              Param #   \n",
      "=================================================================\n",
      "normalization_2 (Normalizati (None, 4)                 9         \n",
      "_________________________________________________________________\n",
      "dense_10 (Dense)             (None, 50)                250       \n",
      "_________________________________________________________________\n",
      "dense_11 (Dense)             (None, 3)                 153       \n",
      "=================================================================\n",
      "Total params: 412\n",
      "Trainable params: 403\n",
      "Non-trainable params: 9\n",
      "_________________________________________________________________\n"
     ]
    }
   ],
   "source": [
    "red_lirios.summary()"
   ]
  },
  {
   "cell_type": "code",
   "execution_count": 52,
   "metadata": {},
   "outputs": [],
   "source": [
    "red_lirios.compile(optimizer='SGD', loss='categorical_crossentropy',\n",
    "                   metrics=['accuracy'])"
   ]
  },
  {
   "cell_type": "code",
   "execution_count": 56,
   "metadata": {},
   "outputs": [
    {
     "data": {
      "text/plain": [
       "<tensorflow.python.keras.callbacks.History at 0x7fdfd0209eb8>"
      ]
     },
     "execution_count": 56,
     "metadata": {},
     "output_type": "execute_result"
    }
   ],
   "source": [
    "red_lirios.fit(atributos_entrenamiento, objetivo_entrenamiento,\n",
    "               batch_size=10, epochs=200, verbose=0)"
   ]
  },
  {
   "cell_type": "code",
   "execution_count": 57,
   "metadata": {},
   "outputs": [
    {
     "name": "stdout",
     "output_type": "stream",
     "text": [
      "2/2 [==============================] - 0s 4ms/step - loss: 0.0984 - accuracy: 0.9600\n"
     ]
    },
    {
     "data": {
      "text/plain": [
       "[0.09842399507761002, 0.9599999785423279]"
      ]
     },
     "execution_count": 57,
     "metadata": {},
     "output_type": "execute_result"
    }
   ],
   "source": [
    "red_lirios.evaluate(atributos_prueba, objetivo_prueba)"
   ]
  }
 ],
 "metadata": {
  "kernelspec": {
   "display_name": "Python 3",
   "language": "python",
   "name": "python3"
  },
  "language_info": {
   "codemirror_mode": {
    "name": "ipython",
    "version": 3
   },
   "file_extension": ".py",
   "mimetype": "text/x-python",
   "name": "python",
   "nbconvert_exporter": "python",
   "pygments_lexer": "ipython3",
   "version": "3.7.0"
  }
 },
 "nbformat": 4,
 "nbformat_minor": 5
}
